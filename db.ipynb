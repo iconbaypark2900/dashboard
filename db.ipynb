{
 "cells": [
  {
   "cell_type": "code",
   "execution_count": 4,
   "metadata": {},
   "outputs": [
    {
     "data": {
      "text/html": [
       "\n",
       "        <iframe\n",
       "            width=\"100%\"\n",
       "            height=\"650\"\n",
       "            src=\"http://127.0.0.1:8050/\"\n",
       "            frameborder=\"0\"\n",
       "            allowfullscreen\n",
       "            \n",
       "        ></iframe>\n",
       "        "
      ],
      "text/plain": [
       "<IPython.lib.display.IFrame at 0x7f24d03ddf10>"
      ]
     },
     "metadata": {},
     "output_type": "display_data"
    }
   ],
   "source": [
    "import dash\n",
    "from dash import dcc, html\n",
    "from dash.dependencies import Input, Output\n",
    "import pandas as pd\n",
    "import yfinance as yf\n",
    "import datetime\n",
    "import plotly.graph_objects as go\n",
    "\n",
    "# Create a dash application\n",
    "app = dash.Dash(__name__)\n",
    "\n",
    "# Define the layout of the application\n",
    "app.layout = html.Div([\n",
    "    dcc.Input(id='stock-input', type='text', placeholder='Enter a stock symbol...'),\n",
    "    dcc.Graph(id='stock-graph')\n",
    "])\n",
    "\n",
    "# Define the callback for the application\n",
    "@app.callback(\n",
    "    Output('stock-graph', 'figure'),\n",
    "    [Input('stock-input', 'value')]\n",
    ")\n",
    "def update_graph(stock):\n",
    "    if stock is None or stock == '':\n",
    "        return go.Figure()\n",
    "\n",
    "    end = datetime.datetime.now()\n",
    "    start = end - pd.DateOffset(months=1)\n",
    "\n",
    "    ticker_obj = yf.Ticker(stock)\n",
    "    df = ticker_obj.history(start=start.date().isoformat(), end=end.date().isoformat())\n",
    "\n",
    "    candlestick = go.Candlestick(x=df.index,\n",
    "                        open=df['Open'],\n",
    "                        high=df['High'],\n",
    "                        low=df['Low'],\n",
    "                        close=df['Close'])\n",
    "\n",
    "    layout = go.Layout(title=stock)\n",
    "    fig = go.Figure(data=[candlestick], layout=layout)\n",
    "\n",
    "    return fig\n",
    "\n",
    "# Run the application\n",
    "app.run_server(mode='external', debug=True)\n",
    "\n",
    "\n",
    "\n",
    "\n",
    "\n",
    "\n",
    "\n",
    "\n",
    "\n",
    "\n"
   ]
  }
 ],
 "metadata": {
  "kernelspec": {
   "display_name": "venv",
   "language": "python",
   "name": "python3"
  },
  "language_info": {
   "codemirror_mode": {
    "name": "ipython",
    "version": 3
   },
   "file_extension": ".py",
   "mimetype": "text/x-python",
   "name": "python",
   "nbconvert_exporter": "python",
   "pygments_lexer": "ipython3",
   "version": "3.8.10"
  },
  "orig_nbformat": 4
 },
 "nbformat": 4,
 "nbformat_minor": 2
}
